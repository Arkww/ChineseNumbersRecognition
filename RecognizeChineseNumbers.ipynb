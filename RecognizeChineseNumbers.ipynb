{
 "cells": [
  {
   "cell_type": "code",
   "execution_count": 1,
   "metadata": {},
   "outputs": [
    {
     "name": "stderr",
     "output_type": "stream",
     "text": [
      "C:\\Users\\mathi\\AppData\\Local\\Packages\\PythonSoftwareFoundation.Python.3.11_qbz5n2kfra8p0\\LocalCache\\local-packages\\Python311\\site-packages\\tqdm\\auto.py:21: TqdmWarning: IProgress not found. Please update jupyter and ipywidgets. See https://ipywidgets.readthedocs.io/en/stable/user_install.html\n",
      "  from .autonotebook import tqdm as notebook_tqdm\n"
     ]
    }
   ],
   "source": [
    "import numpy as np\n",
    "import pandas as pd\n",
    "from PIL import Image\n",
    "import torch\n",
    "import torch.nn as nn\n",
    "from torch.utils.data import Dataset, DataLoader, random_split\n",
    "import torch.nn.functional as F\n",
    "import torch.optim as optim\n",
    "import matplotlib.pyplot as plt\n",
    "import torchvision\n",
    "import torchvision.transforms as transforms\n",
    "import kagglehub\n",
    "import shutil\n",
    "import os\n",
    "import torch.optim.lr_scheduler as lrSched\n",
    "from sklearn.metrics import confusion_matrix\n",
    "import random"
   ]
  },
  {
   "cell_type": "markdown",
   "metadata": {},
   "source": [
    "### Import and move the dataset"
   ]
  },
  {
   "cell_type": "code",
   "execution_count": 2,
   "metadata": {},
   "outputs": [
    {
     "name": "stdout",
     "output_type": "stream",
     "text": [
      "Warning: Looks like you're using an outdated `kagglehub` version, please consider updating (latest version: 0.3.5)\n",
      "Path to dataset files: C:\\Users\\mathi\\.cache\\kagglehub\\datasets\\gpreda\\chinese-mnist\\versions\\7\n"
     ]
    }
   ],
   "source": [
    "path = kagglehub.dataset_download(\"gpreda/chinese-mnist\")\n",
    "\n",
    "print(\"Path to dataset files:\", path)\n",
    "\n",
    "\n",
    "for file_name in os.listdir(path):\n",
    "    full_file_name = os.path.join(path, file_name)\n",
    "    if os.path.isfile(full_file_name):\n",
    "        shutil.move(full_file_name, './')\n",
    "\n"
   ]
  },
  {
   "cell_type": "code",
   "execution_count": 3,
   "metadata": {},
   "outputs": [],
   "source": [
    "transform = transforms.Compose([\n",
    "    transforms.RandomHorizontalFlip(),\n",
    "    transforms.Resize((64, 64)),\n",
    "    transforms.Grayscale(num_output_channels=1),  # Ensure the image is in 1 channel\n",
    "    transforms.ToTensor(),\n",
    "    transforms.Normalize((0.5,), (0.5,))  # Use single values for grayscale\n",
    "])\n"
   ]
  },
  {
   "cell_type": "markdown",
   "metadata": {},
   "source": [
    "### Splitting the data in a train dataset (80%) and a test dataset (20%)"
   ]
  },
  {
   "cell_type": "code",
   "execution_count": 4,
   "metadata": {},
   "outputs": [
    {
     "name": "stdout",
     "output_type": "stream",
     "text": [
      "['九', '十', '百', '千', '万', '亿', '零', '一', '二', '三', '四', '五', '六', '七', '八']\n",
      "15\n"
     ]
    }
   ],
   "source": [
    "dataset = pd.read_csv('chinese_mnist.csv')\n",
    "\n",
    "\n",
    "characters = dataset['character'].unique().tolist()\n",
    "print(characters)\n",
    "print(len(characters))"
   ]
  },
  {
   "cell_type": "code",
   "execution_count": 5,
   "metadata": {},
   "outputs": [
    {
     "name": "stdout",
     "output_type": "stream",
     "text": [
      "dataframe (index file) rows: 15000\n",
      "image files : 15000\n"
     ]
    },
    {
     "data": {
      "text/plain": [
       "['input_100_10_1.jpg',\n",
       " 'input_100_10_10.jpg',\n",
       " 'input_100_10_11.jpg',\n",
       " 'input_100_10_12.jpg',\n",
       " 'input_100_10_13.jpg']"
      ]
     },
     "execution_count": 5,
     "metadata": {},
     "output_type": "execute_result"
    }
   ],
   "source": [
    "IMAGE_PATH = path + \"/data/data/\"\n",
    "print(\"dataframe (index file) rows:\", dataset.shape[0]) \n",
    "print(\"image files :\", len(os.listdir(IMAGE_PATH)))\n",
    "filenames = os.listdir(IMAGE_PATH)\n",
    "filenames[0:5]"
   ]
  },
  {
   "cell_type": "code",
   "execution_count": 6,
   "metadata": {},
   "outputs": [
    {
     "name": "stdout",
     "output_type": "stream",
     "text": [
      "Randomly selected filenames: ['input_39_2_10.jpg', 'input_67_6_3.jpg', 'input_1_9_9.jpg', 'input_48_8_8.jpg', 'input_70_4_1.jpg']\n"
     ]
    }
   ],
   "source": [
    "\n",
    "# Select 5 random filenames\n",
    "random_filenames = random.sample(filenames, 5)\n",
    "\n",
    "# Print the selected filenames\n",
    "print(\"Randomly selected filenames:\", random_filenames)\n",
    "\n",
    "# Download (copy) the 5 random images to a new folder (for example 'random_images')\n",
    "download_folder = \"random_images\"\n",
    "os.makedirs(download_folder, exist_ok=True)\n",
    "\n",
    "# Copy the 5 random images to the download folder\n",
    "for filename in random_filenames:\n",
    "    src = os.path.join(IMAGE_PATH, filename)\n",
    "    dest = os.path.join(download_folder, filename)\n",
    "    shutil.copy(src, dest)"
   ]
  },
  {
   "cell_type": "code",
   "execution_count": 7,
   "metadata": {},
   "outputs": [],
   "source": [
    "import torch\n",
    "from torch.utils.data import Dataset\n",
    "from PIL import Image\n",
    "import os\n",
    "import numpy as np\n",
    "\n",
    "class ChineseMNISTdataset(Dataset):\n",
    "    def __init__(self, annotations_dataframe, img_dir, transform=None):\n",
    "        self.df = annotations_dataframe\n",
    "        self.img_dir = img_dir\n",
    "        self.transform = transform\n",
    "\n",
    "    def __len__(self):\n",
    "        return len(self.df)\n",
    "\n",
    "    def __getitem__(self, idx):\n",
    "        imgPath = os.path.join(self.img_dir, self.df['file'][idx]) \n",
    "        img = Image.open(imgPath)\n",
    "\n",
    "        # Ensure the image is in grayscale\n",
    "        img = img.convert('L')  # Convert to grayscale if it's not already\n",
    "        \n",
    "        # Apply transformations if they are provided\n",
    "        if self.transform:\n",
    "            img = self.transform(img)\n",
    "        \n",
    "        # Convert image to tensor format\n",
    "        imgAsT = torch.from_numpy(np.array(img)).float()\n",
    "\n",
    "        # If the image is 2D (grayscale), add the channel dimension\n",
    "        if imgAsT.ndimension() == 2:\n",
    "            imgAsT = imgAsT.unsqueeze(0)  # Add channel dimension (shape becomes [1, 64, 64])\n",
    "\n",
    "        # Normalize the image\n",
    "        imgAsT = imgAsT / 255.0  # Normalize to [0, 1] if necessary (optional based on your transform)\n",
    "\n",
    "        # Retrieve the label (code)\n",
    "        label = self.df['code'][idx] - 1  # Subtract 1 to start the labels from 0\n",
    "\n",
    "        return imgAsT, label\n"
   ]
  },
  {
   "cell_type": "code",
   "execution_count": 8,
   "metadata": {},
   "outputs": [
    {
     "data": {
      "text/html": [
       "<div>\n",
       "<style scoped>\n",
       "    .dataframe tbody tr th:only-of-type {\n",
       "        vertical-align: middle;\n",
       "    }\n",
       "\n",
       "    .dataframe tbody tr th {\n",
       "        vertical-align: top;\n",
       "    }\n",
       "\n",
       "    .dataframe thead th {\n",
       "        text-align: right;\n",
       "    }\n",
       "</style>\n",
       "<table border=\"1\" class=\"dataframe\">\n",
       "  <thead>\n",
       "    <tr style=\"text-align: right;\">\n",
       "      <th></th>\n",
       "      <th>suite_id</th>\n",
       "      <th>sample_id</th>\n",
       "      <th>code</th>\n",
       "      <th>value</th>\n",
       "      <th>character</th>\n",
       "      <th>file</th>\n",
       "    </tr>\n",
       "  </thead>\n",
       "  <tbody>\n",
       "    <tr>\n",
       "      <th>0</th>\n",
       "      <td>1</td>\n",
       "      <td>1</td>\n",
       "      <td>10</td>\n",
       "      <td>9</td>\n",
       "      <td>九</td>\n",
       "      <td>input_1_1_10.jpg</td>\n",
       "    </tr>\n",
       "    <tr>\n",
       "      <th>1</th>\n",
       "      <td>1</td>\n",
       "      <td>10</td>\n",
       "      <td>10</td>\n",
       "      <td>9</td>\n",
       "      <td>九</td>\n",
       "      <td>input_1_10_10.jpg</td>\n",
       "    </tr>\n",
       "    <tr>\n",
       "      <th>2</th>\n",
       "      <td>1</td>\n",
       "      <td>2</td>\n",
       "      <td>10</td>\n",
       "      <td>9</td>\n",
       "      <td>九</td>\n",
       "      <td>input_1_2_10.jpg</td>\n",
       "    </tr>\n",
       "    <tr>\n",
       "      <th>3</th>\n",
       "      <td>1</td>\n",
       "      <td>3</td>\n",
       "      <td>10</td>\n",
       "      <td>9</td>\n",
       "      <td>九</td>\n",
       "      <td>input_1_3_10.jpg</td>\n",
       "    </tr>\n",
       "    <tr>\n",
       "      <th>4</th>\n",
       "      <td>1</td>\n",
       "      <td>4</td>\n",
       "      <td>10</td>\n",
       "      <td>9</td>\n",
       "      <td>九</td>\n",
       "      <td>input_1_4_10.jpg</td>\n",
       "    </tr>\n",
       "  </tbody>\n",
       "</table>\n",
       "</div>"
      ],
      "text/plain": [
       "   suite_id  sample_id  code  value character               file\n",
       "0         1          1    10      9         九   input_1_1_10.jpg\n",
       "1         1         10    10      9         九  input_1_10_10.jpg\n",
       "2         1          2    10      9         九   input_1_2_10.jpg\n",
       "3         1          3    10      9         九   input_1_3_10.jpg\n",
       "4         1          4    10      9         九   input_1_4_10.jpg"
      ]
     },
     "execution_count": 8,
     "metadata": {},
     "output_type": "execute_result"
    }
   ],
   "source": [
    "dataset['file'] = dataset[['suite_id','sample_id','code']].apply(lambda x: 'input_' + \n",
    "                 x['suite_id'].astype(str) +'_'+x['sample_id'].astype(str)+'_'+x['code'].astype(str)+'.jpg', axis=1)\n",
    "dataset.head(5)"
   ]
  },
  {
   "cell_type": "code",
   "execution_count": 9,
   "metadata": {},
   "outputs": [
    {
     "name": "stdout",
     "output_type": "stream",
     "text": [
      "L\n"
     ]
    },
    {
     "data": {
      "text/plain": [
       "(64, 64)"
      ]
     },
     "execution_count": 9,
     "metadata": {},
     "output_type": "execute_result"
    }
   ],
   "source": [
    "imgPath =  os.path.join(IMAGE_PATH, dataset['file'][4000]) \n",
    "im = Image.open(imgPath)\n",
    "print(im.mode)\n",
    "im.size\n",
    "\n"
   ]
  },
  {
   "cell_type": "code",
   "execution_count": 10,
   "metadata": {},
   "outputs": [
    {
     "data": {
      "text/plain": [
       "15000"
      ]
     },
     "execution_count": 10,
     "metadata": {},
     "output_type": "execute_result"
    }
   ],
   "source": [
    "chineseNumbers = ChineseMNISTdataset(dataset, IMAGE_PATH)  # init\n",
    "chineseNumbers.__len__() # dataset length\n",
    "\n",
    "\n"
   ]
  },
  {
   "cell_type": "code",
   "execution_count": 11,
   "metadata": {},
   "outputs": [
    {
     "data": {
      "text/plain": [
       "(12000, 3000)"
      ]
     },
     "execution_count": 11,
     "metadata": {},
     "output_type": "execute_result"
    }
   ],
   "source": [
    "BATCH_SIZE = 64\n",
    "\n",
    "\n",
    "train_size = int(0.8 * len(chineseNumbers))  # 80% for training\n",
    "test_size = len(chineseNumbers) - train_size  # Remaining 20% for testing\n",
    "train_data, test_data = random_split(chineseNumbers, [train_size, test_size])\n",
    "\n",
    "len(train_data), len(test_data)\n"
   ]
  },
  {
   "cell_type": "code",
   "execution_count": 12,
   "metadata": {},
   "outputs": [
    {
     "data": {
      "text/plain": [
       "(188, 47)"
      ]
     },
     "execution_count": 12,
     "metadata": {},
     "output_type": "execute_result"
    }
   ],
   "source": [
    "\n",
    "train_loader = DataLoader(train_data, BATCH_SIZE, shuffle=True)\n",
    "test_loader = DataLoader(test_data, BATCH_SIZE, shuffle=True)\n",
    "\n",
    "len(train_loader), len(test_loader)\n"
   ]
  },
  {
   "cell_type": "code",
   "execution_count": 13,
   "metadata": {},
   "outputs": [
    {
     "name": "stdout",
     "output_type": "stream",
     "text": [
      "Batch 0 - X size: torch.Size([64, 1, 64, 64]), y size: torch.Size([64])\n"
     ]
    }
   ],
   "source": [
    "# Checking the size of the first batch in the train_loader\n",
    "for batch_idx, (X, y) in enumerate(train_loader):\n",
    "    print(f\"Batch {batch_idx} - X size: {X.size()}, y size: {y.size()}\")\n",
    "    break  # Only check the first batch\n"
   ]
  },
  {
   "cell_type": "code",
   "execution_count": 14,
   "metadata": {},
   "outputs": [
    {
     "name": "stdout",
     "output_type": "stream",
     "text": [
      "torch.Size([1, 64, 64])\n",
      "9\n"
     ]
    },
    {
     "data": {
      "text/plain": [
       "<matplotlib.image.AxesImage at 0x22811a5d790>"
      ]
     },
     "execution_count": 14,
     "metadata": {},
     "output_type": "execute_result"
    },
    {
     "data": {
      "image/png": "[encoded data removed]",
      "text/plain": [
       "<Figure size 640x480 with 1 Axes>"
      ]
     },
     "metadata": {},
     "output_type": "display_data"
    }
   ],
   "source": [
    "img, label = chineseNumbers.__getitem__(42)\n",
    "print(img.shape)\n",
    "print(label)\n",
    "\n",
    "\n",
    "img = img.squeeze(0).numpy()\n",
    "plt.imshow(img)\n",
    "\n"
   ]
  },
  {
   "cell_type": "code",
   "execution_count": 15,
   "metadata": {},
   "outputs": [
    {
     "name": "stdout",
     "output_type": "stream",
     "text": [
      "True\n",
      "0\n",
      "1\n",
      "NVIDIA GeForce GTX 1060 3GB\n"
     ]
    }
   ],
   "source": [
    "print(torch.cuda.is_available())\n",
    "print(torch.cuda.current_device())  # Returns current device index\n",
    "print(torch.cuda.device_count())    # Number of available GPUs\n",
    "print(torch.cuda.get_device_name(0))  # Name of the GPU\n",
    "\n",
    "device = torch.device('cuda' if torch.cuda.is_available() else 'cpu')\n"
   ]
  },
  {
   "cell_type": "code",
   "execution_count": 16,
   "metadata": {},
   "outputs": [],
   "source": [
    "class_names = ['0'  , '1'  , '2'  , '3'  , '4'  , '5'  , '6'  , '7'  , '8'  , '9'  , '10' , '100', '1000', '10000', '100000000']"
   ]
  },
  {
   "cell_type": "code",
   "execution_count": 17,
   "metadata": {},
   "outputs": [],
   "source": [
    "import torch\n",
    "import torch.nn as nn\n",
    "import torch.nn.functional as F\n",
    "\n",
    "class NeuralNet(nn.Module):\n",
    "    def __init__(self):\n",
    "        super(NeuralNet, self).__init__()\n",
    "        self.bn1 = nn.BatchNorm2d(64)\n",
    "        self.bn2 = nn.BatchNorm2d(128)\n",
    "        self.bn3 = nn.BatchNorm2d(256)\n",
    "        self.bn4 = nn.BatchNorm2d(512)\n",
    "        \n",
    "        # Convolutional layers\n",
    "        self.conv1 = nn.Conv2d(1, 64, kernel_size=3, padding=1)  # Output: (64, 64, 64)\n",
    "        self.conv2 = nn.Conv2d(64, 128, kernel_size=3, padding=1)  # Output: (128, 64, 64)\n",
    "        self.conv3 = nn.Conv2d(128, 256, kernel_size=3, padding=1)  # Output: (256, 64, 64)\n",
    "        self.conv4 = nn.Conv2d(256, 512, kernel_size=3, padding=1)  # Output: (512, 64, 64)\n",
    "        self.pool = nn.MaxPool2d(kernel_size=2, stride=2)  # Reduces each dimension by half\n",
    "\n",
    "        # Dropout layers\n",
    "        self.dropout = nn.Dropout(p=0.5)\n",
    "\n",
    "        # Fully connected layers\n",
    "        self.fc1 = nn.Linear(512 * 4 * 4, 1024)  # Adjusted for 4x4 feature map size\n",
    "        self.fc2 = nn.Linear(1024, 512)\n",
    "        self.fc3 = nn.Linear(512, 15)  # Output layer with 15 classes\n",
    "\n",
    "        # Initialize weights (e.g., Xavier initialization for conv and linear layers)\n",
    "        self._initialize_weights()\n",
    "\n",
    "    def _initialize_weights(self):\n",
    "        # Initialize convolution layers and fully connected layers\n",
    "        for m in self.modules():\n",
    "            if isinstance(m, nn.Conv2d):\n",
    "                nn.init.xavier_normal_(m.weight)\n",
    "                if m.bias is not None:\n",
    "                    nn.init.zeros_(m.bias)\n",
    "            elif isinstance(m, nn.Linear):\n",
    "                nn.init.xavier_normal_(m.weight)\n",
    "                if m.bias is not None:\n",
    "                    nn.init.zeros_(m.bias)\n",
    "\n",
    "    def forward(self, x):\n",
    "        x = self.pool(F.relu(self.bn1(self.conv1(x))))  # Conv1 -> BatchNorm -> ReLU -> Pool\n",
    "        x = self.pool(F.relu(self.bn2(self.conv2(x))))  # Conv2 -> BatchNorm -> ReLU -> Pool\n",
    "        x = self.pool(F.relu(self.bn3(self.conv3(x))))  # Conv3 -> BatchNorm -> ReLU -> Pool\n",
    "        x = self.pool(F.relu(self.bn4(self.conv4(x))))  # Conv4 -> BatchNorm -> ReLU -> Pool\n",
    "        x = torch.flatten(x, 1)  # Flatten the tensor\n",
    "        x = self.dropout(F.relu(self.fc1(x)))  # Fully connected layer 1 with dropout\n",
    "        x = self.dropout(F.relu(self.fc2(x)))  # Fully connected layer 2 with dropout\n",
    "        x = self.fc3(x)  # Fully connected layer 3 (output)\n",
    "        return x\n"
   ]
  },
  {
   "cell_type": "code",
   "execution_count": 18,
   "metadata": {},
   "outputs": [],
   "source": [
    "net = NeuralNet().to(device)\n",
    "loss_function = nn.CrossEntropyLoss()\n",
    "optimizer = optim.SGD(net.parameters(), lr=0.01, momentum=0.9)\n",
    "scheduler = lrSched.StepLR(optimizer, step_size = 30, gamma = 0.1)\n"
   ]
  },
  {
   "cell_type": "code",
   "execution_count": null,
   "metadata": {},
   "outputs": [],
   "source": [
    "lossHistory = []\n",
    "NUM_EPOCHS = 30\n",
    "\n",
    "for e in range(NUM_EPOCHS):\n",
    "    print(f\"Epoch: {e+1}/{NUM_EPOCHS}\")\n",
    "\n",
    "    epochLoss = 0\n",
    "    correct = 0\n",
    "    totalExamples = 0\n",
    "    trainLosses = []\n",
    "\n",
    "    # Check to ensure train_loader is working properly\n",
    "    if len(train_loader) == 0:\n",
    "        print(\"Error: train_loader is empty!\")\n",
    "        break\n",
    "\n",
    "    for batchIdx, (X, y) in enumerate(train_loader):\n",
    "        # Ensure that batches are being retrieved and have the correct size\n",
    "        if X.size(0) != BATCH_SIZE and batchIdx != len(train_loader) - 1:\n",
    "            print(f\"Warning: Batch size mismatch at batch {batchIdx}, expected {BATCH_SIZE} but got {X.size(0)}\")\n",
    "        \n",
    "        # Move data to the device\n",
    "        X = X.to(device)\n",
    "        y = y.to(device)\n",
    "\n",
    "        # Forward pass\n",
    "        outputs = net(X)\n",
    "        batchLoss = loss_function(outputs, y)  # Calculate the loss\n",
    "        trainLosses.append(batchLoss.detach())  # Detach the loss to remove gradients\n",
    "\n",
    "        # Backward pass\n",
    "        batchLoss.backward()\n",
    "\n",
    "        # Update model parameters\n",
    "        optimizer.step()\n",
    "        optimizer.zero_grad()\n",
    "\n",
    "        # Track the epoch loss\n",
    "        epochLoss += batchLoss.item()\n",
    "\n",
    "        # Print status every 50 batches\n",
    "        if batchIdx % 50 == 0:\n",
    "            totImages = batchIdx * BATCH_SIZE + len(X)\n",
    "            print(f\"\\tIteration: {batchIdx}\\t Current batch Loss: {batchLoss:.3f} | images: {totImages} | epoch loss/n: {epochLoss/len(train_loader):.3f}\")\n",
    "\n",
    "        # Calculate accuracy\n",
    "        preds = torch.argmax(outputs, dim=1)\n",
    "        compare = y == preds\n",
    "        correct += torch.sum(compare)\n",
    "        totalExamples += len(compare)\n",
    "\n",
    "    # Step the learning rate scheduler\n",
    "    scheduler.step()\n",
    "\n",
    "    # Print epoch summary\n",
    "    accuracy = (correct / totalExamples).item()\n",
    "    print(f\"  Train epoch loss: {epochLoss:.2f} | mean: {torch.stack(trainLosses).mean().item():.2f} | accuracy: {accuracy:.2f} | lr: {scheduler.get_last_lr()}\")\n",
    "    lossHistory.append(torch.stack(trainLosses).mean().item())\n",
    "\n",
    "    # Plot the first image with prediction and actual value\n",
    "    first_img = X[0].cpu().squeeze(0).numpy()\n",
    "    actual_label = y[0].cpu().item()\n",
    "    predicted_label = preds[0].cpu().item()\n",
    "    \n",
    "    plt.imshow(first_img, cmap='gray')\n",
    "    plt.title(f'Actual: {class_names[actual_label]}, Predicted: {class_names[predicted_label]}')\n",
    "    plt.axis('off')\n",
    "    plt.show()\n",
    "\n",
    "print(\"Done!\")\n"
   ]
  },
  {
   "cell_type": "code",
   "execution_count": 20,
   "metadata": {},
   "outputs": [
    {
     "data": {
      "image/png": "[encoded data removed]",
      "text/plain": [
       "<Figure size 640x480 with 1 Axes>"
      ]
     },
     "metadata": {},
     "output_type": "display_data"
    }
   ],
   "source": [
    "plt.plot(lossHistory)\n",
    "plt.xlabel('Epoch')\n",
    "plt.ylabel('loss')\n",
    "plt.title('Loss vs. No. of epochs')\n",
    "plt.show()"
   ]
  },
  {
   "cell_type": "code",
   "execution_count": 21,
   "metadata": {},
   "outputs": [],
   "source": [
    "def computeAccuracy(model, data):\n",
    "    model = model.eval()\n",
    "    correct = 0.0\n",
    "    totalExamples = 0\n",
    "    totalLabels = np.array([])\n",
    "    totalPred = np.array([])\n",
    "\n",
    "    for idx, (features, labels) in enumerate(data):\n",
    "        with torch.no_grad():\n",
    "            features = features.to(device)\n",
    "            labels = labels.to(device)\n",
    "            logits = model(features) # run the model to get the predictions\n",
    "\n",
    "        predictions = torch.argmax(logits, dim=1)\n",
    "        compare = labels == predictions  # compare predictions with true label\n",
    "\n",
    "        correct += torch.sum(compare)\n",
    "        totalExamples += len(compare)\n",
    "\n",
    "        totalLabels = np.concatenate((totalLabels, labels.cpu().numpy()))\n",
    "        totalPred = np.concatenate((totalPred, predictions.cpu().numpy()))\n",
    "\n",
    "    cm = confusion_matrix(totalLabels, totalPred)  # assemble the confusion matrix and print it\n",
    "    print(f'Confusion matrix: \\n{cm}')\n",
    "\n",
    "    return (correct / totalExamples).item()  # return the accuracy"
   ]
  },
  {
   "cell_type": "code",
   "execution_count": 35,
   "metadata": {},
   "outputs": [
    {
     "name": "stdout",
     "output_type": "stream",
     "text": [
      "Confusion matrix: \n",
      "[[217   0   0   0   0   0   0   0   0   0   0   0   0   0   0]\n",
      " [  0 183   0   0   0   0   0   0   0   0   0   0   0   0   0]\n",
      " [  0   1 191   1   0   0   0   0   0   0   0   0   0   0   0]\n",
      " [  0   0   2 183   0   0   0   0   0   0   0   0   0   0   0]\n",
      " [  1   0   0   0 204   0   0   0   0   0   0   0   0   0   1]\n",
      " [  0   0   0   1   0 203   0   1   0   0   0   0   1   0   0]\n",
      " [  0   0   0   0   0   0 207   0   0   0   0   0   0   0   0]\n",
      " [  0   0   1   0   0   0   0 180   0   0   0   0   0   0   1]\n",
      " [  0   0   0   0   0   0   1   0 199   0   0   1   0   0   2]\n",
      " [  0   0   0   0   0   0   0   0   0 197   0   0   0   4   3]\n",
      " [  0   0   0   0   0   0   0   0   0   0 207   0   2   0   0]\n",
      " [  0   0   0   1   0   0   0   0   0   0   0 208   0   2   1]\n",
      " [  0   0   0   0   0   0   0   0   0   0   0   0 181   0   0]\n",
      " [  0   0   0   0   0   0   1   0   0   0   0   0   0 193   0]\n",
      " [  0   0   0   0   0   0   0   0   0   0   0   0   0   0 218]]\n",
      "\n",
      "Accuracy: 99.03333187103271 %\n"
     ]
    }
   ],
   "source": [
    "acc = computeAccuracy(net, test_loader)\n",
    "print(f\"\\nAccuracy: {acc*100} %\")\n"
   ]
  },
  {
   "cell_type": "code",
   "execution_count": 23,
   "metadata": {},
   "outputs": [],
   "source": [
    "torch.save(net.state_dict(), 'trained_net.pth')"
   ]
  },
  {
   "cell_type": "code",
   "execution_count": 24,
   "metadata": {},
   "outputs": [
    {
     "data": {
      "text/plain": [
       "<All keys matched successfully>"
      ]
     },
     "execution_count": 24,
     "metadata": {},
     "output_type": "execute_result"
    }
   ],
   "source": [
    "net = NeuralNet().to(device)\n",
    "net.load_state_dict(torch.load('trained_net.pth'))"
   ]
  },
  {
   "cell_type": "code",
   "execution_count": 42,
   "metadata": {},
   "outputs": [
    {
     "name": "stdout",
     "output_type": "stream",
     "text": [
      "Image: 1000.jpg, Predicted Chinese Number: 0\n",
      "Image: 10000.jpg, Predicted Chinese Number: 0\n",
      "Image: 3.jpg, Predicted Chinese Number: 0\n",
      "Image: 5.jpg, Predicted Chinese Number: 4\n",
      "Image: 8.jpg, Predicted Chinese Number: 4\n",
      "Image: input_17_5_14.jpg, Predicted Chinese Number: 6\n",
      "Image: input_21_6_13.jpg, Predicted Chinese Number: 6\n",
      "Image: input_25_8_14.jpg, Predicted Chinese Number: 6\n",
      "Image: input_39_2_10.jpg, Predicted Chinese Number: 6\n",
      "Image: input_40_2_7.jpg, Predicted Chinese Number: 6\n"
     ]
    }
   ],
   "source": [
    "import os\n",
    "from PIL import Image\n",
    "import torch\n",
    "from torchvision import transforms\n",
    "\n",
    "\n",
    "download_folder = \"random_images\"\n",
    "# Define the device (CPU or GPU)\n",
    "device = torch.device(\"cuda\" if torch.cuda.is_available() else \"cpu\")\n",
    "\n",
    "# Load the trained model\n",
    "net = NeuralNet().to(device)\n",
    "net.load_state_dict(torch.load('trained_net.pth'))\n",
    "net.eval()  # Set the model to evaluation mode\n",
    "\n",
    "# Define the preprocessing pipeline\n",
    "transform = transforms.Compose([\n",
    "    transforms.Grayscale(),  # Convert to grayscale if the model expects it\n",
    "    transforms.Resize((64, 64)),  # Resize to match the input size (adjust if needed)\n",
    "    transforms.ToTensor(),  # Convert to tensor\n",
    "    transforms.Normalize((0.5,), (0.5,))  # Normalize to match the training data\n",
    "])\n",
    "\n",
    "# Iterate over all files in the folder\n",
    "for filename in os.listdir(download_folder):\n",
    "    file_path = os.path.join(download_folder, filename)\n",
    "    try:\n",
    "        # Open the image\n",
    "        img = Image.open(file_path)\n",
    "\n",
    "        # Preprocess the image\n",
    "        img_tensor = transform(img).unsqueeze(0).to(device)  # Add batch dimension\n",
    "\n",
    "        # Get prediction from the model\n",
    "        with torch.no_grad():\n",
    "            output = net(img_tensor)\n",
    "            predicted_class = output.argmax(dim=1).item()\n",
    "\n",
    "        # Display the result\n",
    "        print(f\"Image: {filename}, Predicted Chinese Number: {predicted_class}\")\n",
    "\n",
    "    except Exception as e:\n",
    "        print(f\"Error processing file {filename}: {e}\")\n"
   ]
  },
  {
   "cell_type": "code",
   "execution_count": null,
   "metadata": {},
   "outputs": [],
   "source": [
    "# List of image paths\n",
    "image_paths = [os.path.join(download_folder, filename) for filename in os.listdir(download_folder)]\n",
    "from PIL import Image, ImageOps, ImageFilter\n",
    "\n",
    "def preprocess_image(image_path):\n",
    "    img = Image.open(image_path).convert('L')  # Convert to grayscale\n",
    "    img = img.filter(ImageFilter.MedianFilter(size=3))  # Noise reduction\n",
    "    img = ImageOps.autocontrast(img)  # Improve contrast\n",
    "    img = img.resize((64, 64))  # Resize to match training data\n",
    "    return img\n",
    "\n",
    "\n",
    "# Set the model to evaluation mode\n",
    "net.eval()\n",
    "\n",
    "# Process and predict each image\n",
    "with torch.no_grad():\n",
    "    for image_path in image_paths:\n",
    "        # Preprocess the raw image\n",
    "        processed_image = preprocess_image(image_path)\n",
    "        \n",
    "        # Apply the transformation pipeline (convert to tensor, normalize, etc.)\n",
    "        transformed_image = transform(processed_image).unsqueeze(0).to(device)  # Add batch dimension\n",
    "\n",
    "        # Get the output of the model\n",
    "        output = net(transformed_image)\n",
    "\n",
    "        # Get the predicted class\n",
    "        _, predicted = torch.max(output, 1)\n",
    "\n",
    "        # Plot the original image and the predicted class\n",
    "        plt.imshow(processed_image, cmap='gray')  # Use the processed image for visualization\n",
    "        plt.title(f'Predicted: {class_names[predicted.item()]}')\n",
    "        plt.axis('off')  # Hide the axes\n",
    "        plt.show()"
   ]
  }
 ],
 "metadata": {
  "kernelspec": {
   "display_name": "Python 3",
   "language": "python",
   "name": "python3"
  },
  "language_info": {
   "codemirror_mode": {
    "name": "ipython",
    "version": 3
   },
   "file_extension": ".py",
   "mimetype": "text/x-python",
   "name": "python",
   "nbconvert_exporter": "python",
   "pygments_lexer": "ipython3",
   "version": "3.11.9"
  }
 },
 "nbformat": 4,
 "nbformat_minor": 2
}
